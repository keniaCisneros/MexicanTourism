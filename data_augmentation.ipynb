{
  "nbformat": 4,
  "nbformat_minor": 0,
  "metadata": {
    "colab": {
      "name": "data_augmentation.ipynb",
      "provenance": [],
      "collapsed_sections": []
    },
    "kernelspec": {
      "name": "python3",
      "display_name": "Python 3"
    },
    "language_info": {
      "name": "python"
    },
    "accelerator": "GPU"
  },
  "cells": [
    {
      "cell_type": "code",
      "metadata": {
        "id": "3NMbJmrGiQN1"
      },
      "source": [
        "path = '/content/drive/MyDrive/MineriaTextos/proyecto_mineria_textos_turismo/'\n",
        "#path=\"/content/drive/MyDrive/proyecto_mineria_textos_turismo/\"\n",
        "sent_path_train = 'rest-mex_2021_Sentiment_data_train/'"
      ],
      "execution_count": null,
      "outputs": []
    },
    {
      "cell_type": "code",
      "metadata": {
        "colab": {
          "base_uri": "https://localhost:8080/"
        },
        "id": "8StJ8qNmnHkC",
        "outputId": "c6ad83df-5a08-4f6b-acbe-7f656ba13199"
      },
      "source": [
        "from google.colab import drive\n",
        "drive.mount('/content/drive')"
      ],
      "execution_count": null,
      "outputs": [
        {
          "output_type": "stream",
          "text": [
            "Mounted at /content/drive\n"
          ],
          "name": "stdout"
        }
      ]
    },
    {
      "cell_type": "markdown",
      "metadata": {
        "id": "FQdCHUtoEqmM"
      },
      "source": [
        "# Libraries"
      ]
    },
    {
      "cell_type": "code",
      "metadata": {
        "id": "rQcT2sLri5Qt",
        "colab": {
          "base_uri": "https://localhost:8080/"
        },
        "outputId": "8e196717-6eed-4f4f-a611-8b5e8c77cb71"
      },
      "source": [
        "!pip install -U deep_translator\n",
        "!pip install transformers\n",
        "!pip install scikit-multilearn"
      ],
      "execution_count": null,
      "outputs": [
        {
          "output_type": "stream",
          "text": [
            "Collecting deep_translator\n",
            "  Downloading https://files.pythonhosted.org/packages/c4/71/b2939e3d1ccd91c5eba61718d183c607486089d509141e9cbe594cca873b/deep_translator-1.4.4-py2.py3-none-any.whl\n",
            "Requirement already satisfied, skipping upgrade: beautifulsoup4 in /usr/local/lib/python3.7/dist-packages (from deep_translator) (4.6.3)\n",
            "Requirement already satisfied, skipping upgrade: requests in /usr/local/lib/python3.7/dist-packages (from deep_translator) (2.23.0)\n",
            "Requirement already satisfied, skipping upgrade: certifi>=2017.4.17 in /usr/local/lib/python3.7/dist-packages (from requests->deep_translator) (2020.12.5)\n",
            "Requirement already satisfied, skipping upgrade: idna<3,>=2.5 in /usr/local/lib/python3.7/dist-packages (from requests->deep_translator) (2.10)\n",
            "Requirement already satisfied, skipping upgrade: urllib3!=1.25.0,!=1.25.1,<1.26,>=1.21.1 in /usr/local/lib/python3.7/dist-packages (from requests->deep_translator) (1.24.3)\n",
            "Requirement already satisfied, skipping upgrade: chardet<4,>=3.0.2 in /usr/local/lib/python3.7/dist-packages (from requests->deep_translator) (3.0.4)\n",
            "Installing collected packages: deep-translator\n",
            "Successfully installed deep-translator-1.4.4\n",
            "Collecting transformers\n",
            "\u001b[?25l  Downloading https://files.pythonhosted.org/packages/d5/43/cfe4ee779bbd6a678ac6a97c5a5cdeb03c35f9eaebbb9720b036680f9a2d/transformers-4.6.1-py3-none-any.whl (2.2MB)\n",
            "\u001b[K     |████████████████████████████████| 2.3MB 8.4MB/s \n",
            "\u001b[?25hCollecting tokenizers<0.11,>=0.10.1\n",
            "\u001b[?25l  Downloading https://files.pythonhosted.org/packages/d4/e2/df3543e8ffdab68f5acc73f613de9c2b155ac47f162e725dcac87c521c11/tokenizers-0.10.3-cp37-cp37m-manylinux_2_5_x86_64.manylinux1_x86_64.manylinux_2_12_x86_64.manylinux2010_x86_64.whl (3.3MB)\n",
            "\u001b[K     |████████████████████████████████| 3.3MB 45.6MB/s \n",
            "\u001b[?25hCollecting sacremoses\n",
            "\u001b[?25l  Downloading https://files.pythonhosted.org/packages/75/ee/67241dc87f266093c533a2d4d3d69438e57d7a90abb216fa076e7d475d4a/sacremoses-0.0.45-py3-none-any.whl (895kB)\n",
            "\u001b[K     |████████████████████████████████| 901kB 40.8MB/s \n",
            "\u001b[?25hRequirement already satisfied: regex!=2019.12.17 in /usr/local/lib/python3.7/dist-packages (from transformers) (2019.12.20)\n",
            "Requirement already satisfied: tqdm>=4.27 in /usr/local/lib/python3.7/dist-packages (from transformers) (4.41.1)\n",
            "Requirement already satisfied: importlib-metadata; python_version < \"3.8\" in /usr/local/lib/python3.7/dist-packages (from transformers) (4.0.1)\n",
            "Requirement already satisfied: packaging in /usr/local/lib/python3.7/dist-packages (from transformers) (20.9)\n",
            "Requirement already satisfied: filelock in /usr/local/lib/python3.7/dist-packages (from transformers) (3.0.12)\n",
            "Requirement already satisfied: numpy>=1.17 in /usr/local/lib/python3.7/dist-packages (from transformers) (1.19.5)\n",
            "Collecting huggingface-hub==0.0.8\n",
            "  Downloading https://files.pythonhosted.org/packages/a1/88/7b1e45720ecf59c6c6737ff332f41c955963090a18e72acbcbeac6b25e86/huggingface_hub-0.0.8-py3-none-any.whl\n",
            "Requirement already satisfied: requests in /usr/local/lib/python3.7/dist-packages (from transformers) (2.23.0)\n",
            "Requirement already satisfied: six in /usr/local/lib/python3.7/dist-packages (from sacremoses->transformers) (1.15.0)\n",
            "Requirement already satisfied: joblib in /usr/local/lib/python3.7/dist-packages (from sacremoses->transformers) (1.0.1)\n",
            "Requirement already satisfied: click in /usr/local/lib/python3.7/dist-packages (from sacremoses->transformers) (7.1.2)\n",
            "Requirement already satisfied: typing-extensions>=3.6.4; python_version < \"3.8\" in /usr/local/lib/python3.7/dist-packages (from importlib-metadata; python_version < \"3.8\"->transformers) (3.7.4.3)\n",
            "Requirement already satisfied: zipp>=0.5 in /usr/local/lib/python3.7/dist-packages (from importlib-metadata; python_version < \"3.8\"->transformers) (3.4.1)\n",
            "Requirement already satisfied: pyparsing>=2.0.2 in /usr/local/lib/python3.7/dist-packages (from packaging->transformers) (2.4.7)\n",
            "Requirement already satisfied: idna<3,>=2.5 in /usr/local/lib/python3.7/dist-packages (from requests->transformers) (2.10)\n",
            "Requirement already satisfied: urllib3!=1.25.0,!=1.25.1,<1.26,>=1.21.1 in /usr/local/lib/python3.7/dist-packages (from requests->transformers) (1.24.3)\n",
            "Requirement already satisfied: certifi>=2017.4.17 in /usr/local/lib/python3.7/dist-packages (from requests->transformers) (2020.12.5)\n",
            "Requirement already satisfied: chardet<4,>=3.0.2 in /usr/local/lib/python3.7/dist-packages (from requests->transformers) (3.0.4)\n",
            "Installing collected packages: tokenizers, sacremoses, huggingface-hub, transformers\n",
            "Successfully installed huggingface-hub-0.0.8 sacremoses-0.0.45 tokenizers-0.10.3 transformers-4.6.1\n",
            "Collecting scikit-multilearn\n",
            "\u001b[?25l  Downloading https://files.pythonhosted.org/packages/bb/1f/e6ff649c72a1cdf2c7a1d31eb21705110ce1c5d3e7e26b2cc300e1637272/scikit_multilearn-0.2.0-py3-none-any.whl (89kB)\n",
            "\u001b[K     |████████████████████████████████| 92kB 3.9MB/s \n",
            "\u001b[?25hInstalling collected packages: scikit-multilearn\n",
            "Successfully installed scikit-multilearn-0.2.0\n"
          ],
          "name": "stdout"
        }
      ]
    },
    {
      "cell_type": "code",
      "metadata": {
        "id": "cbBWQv4S5IwI"
      },
      "source": [
        "from deep_translator import GoogleTranslator\n",
        "\n",
        "from skmultilearn.model_selection import iterative_train_test_split\n",
        "\n",
        "import pandas as pd\n",
        "pd.set_option('max_colwidth', 400)\n",
        "import seaborn as sns\n",
        "import matplotlib.pyplot as plt"
      ],
      "execution_count": null,
      "outputs": []
    },
    {
      "cell_type": "code",
      "metadata": {
        "colab": {
          "base_uri": "https://localhost:8080/"
        },
        "id": "lnSzRcBuEpG2",
        "outputId": "aaab7f92-b32a-460d-f505-3b44dabf6cc6"
      },
      "source": [
        "from transformers import BertTokenizer, BertModel\n",
        "import torch\n",
        "import torch.nn as nn\n",
        "from torch.utils.data import DataLoader, random_split\n",
        "import torch.optim as optim\n",
        "import torch.nn.functional as F\n",
        "\n",
        "from sklearn.metrics import confusion_matrix\n",
        "from sklearn.metrics import classification_report\n",
        "\n",
        "import os\n",
        "import random\n",
        "import numpy as np\n",
        "\n",
        "SEED = 0\n",
        "random.seed(SEED)\n",
        "np.random.seed(SEED)\n",
        "torch.manual_seed(SEED)"
      ],
      "execution_count": null,
      "outputs": [
        {
          "output_type": "execute_result",
          "data": {
            "text/plain": [
              "<torch._C.Generator at 0x7f1977f12eb0>"
            ]
          },
          "metadata": {
            "tags": []
          },
          "execution_count": 9
        }
      ]
    },
    {
      "cell_type": "code",
      "metadata": {
        "colab": {
          "base_uri": "https://localhost:8080/"
        },
        "id": "MTXYPlxjE4tk",
        "outputId": "7c789956-e596-4909-b742-4358df2c643d"
      },
      "source": [
        "device = torch.device('cuda' if torch.cuda.is_available() else 'cpu')\n",
        "device"
      ],
      "execution_count": null,
      "outputs": [
        {
          "output_type": "execute_result",
          "data": {
            "text/plain": [
              "device(type='cuda')"
            ]
          },
          "metadata": {
            "tags": []
          },
          "execution_count": 10
        }
      ]
    },
    {
      "cell_type": "markdown",
      "metadata": {
        "id": "zM9iF_sZEmLH"
      },
      "source": [
        "# Load data and augmentation"
      ]
    },
    {
      "cell_type": "code",
      "metadata": {
        "id": "1qrD1cyRi5Tg",
        "colab": {
          "base_uri": "https://localhost:8080/",
          "height": 363
        },
        "outputId": "9151c9d2-740e-4e61-8f2b-906997de4a8d"
      },
      "source": [
        "df = pd.read_csv(path + sent_path_train + 'rest-mex_2021_Sentiment_data_train.csv')\n",
        "#df = pd.read_csv(path + 'sentiment_augmentation.csv')\n",
        "df.drop_duplicates(inplace=True)\n",
        "df.reset_index(inplace=True)\n",
        "df.drop('index', axis=1, inplace=True)\n",
        "#df.drop('Unnamed: 0', axis=1, inplace=True)\n",
        "df.drop('level_0', axis=1, inplace=True)\n",
        "df.fillna('', inplace=True)\n",
        "print(df.shape)\n",
        "df.head()"
      ],
      "execution_count": null,
      "outputs": [
        {
          "output_type": "stream",
          "text": [
            "(5197, 8)\n"
          ],
          "name": "stdout"
        },
        {
          "output_type": "execute_result",
          "data": {
            "text/html": [
              "<div>\n",
              "<style scoped>\n",
              "    .dataframe tbody tr th:only-of-type {\n",
              "        vertical-align: middle;\n",
              "    }\n",
              "\n",
              "    .dataframe tbody tr th {\n",
              "        vertical-align: top;\n",
              "    }\n",
              "\n",
              "    .dataframe thead th {\n",
              "        text-align: right;\n",
              "    }\n",
              "</style>\n",
              "<table border=\"1\" class=\"dataframe\">\n",
              "  <thead>\n",
              "    <tr style=\"text-align: right;\">\n",
              "      <th></th>\n",
              "      <th>Title</th>\n",
              "      <th>Opinion</th>\n",
              "      <th>Place</th>\n",
              "      <th>Gender</th>\n",
              "      <th>Age</th>\n",
              "      <th>Country</th>\n",
              "      <th>Date</th>\n",
              "      <th>Label</th>\n",
              "    </tr>\n",
              "  </thead>\n",
              "  <tbody>\n",
              "    <tr>\n",
              "      <th>0</th>\n",
              "      <td>\"¡Momias, demasiado impresionante!\"</td>\n",
              "      <td>\"Las momias están en muy buen estado de conservación, más de 30 para ver. La energía del lugar es pesada, de baja vibración. Todo mi grupo quedó negativamente impresionado. Algunas expresiones de las caras son horribles. Esas imágenes como de ZOMBIES quedaron grabadas en lo profundo de las mentes de quienes las vimos, otros de mis acompañantes se tuvieron que salir del museo. Salimos con ganas...</td>\n",
              "      <td>Museo de las Momias</td>\n",
              "      <td>Male</td>\n",
              "      <td>53</td>\n",
              "      <td>México</td>\n",
              "      <td>22/10/2016</td>\n",
              "      <td>1</td>\n",
              "    </tr>\n",
              "    <tr>\n",
              "      <th>1</th>\n",
              "      <td>Comida cara</td>\n",
              "      <td>Tienen carteles con comida cortida de 40 y no te vendían nada el mínimo era 90 y debías pagar agua y sin buen sabor</td>\n",
              "      <td>Mercado Hidalgo</td>\n",
              "      <td>N/I</td>\n",
              "      <td>-1</td>\n",
              "      <td>México</td>\n",
              "      <td>2018</td>\n",
              "      <td>1</td>\n",
              "    </tr>\n",
              "    <tr>\n",
              "      <th>2</th>\n",
              "      <td>\"No coman ahí\"</td>\n",
              "      <td>\"Creo que es muy insalubre, hay basura por todos lados y aunque la comida es rica y barata, creo que se pueden visitar otros restaurantes.\"</td>\n",
              "      <td>Mercado Hidalgo</td>\n",
              "      <td>Female</td>\n",
              "      <td>61</td>\n",
              "      <td>México</td>\n",
              "      <td>15/01/2013</td>\n",
              "      <td>1</td>\n",
              "    </tr>\n",
              "    <tr>\n",
              "      <th>3</th>\n",
              "      <td>\"Momificado\"</td>\n",
              "      <td>\"Para mí gusto no vale la pena... tristemente es un gran atractivo pero descuidado, complicado para llegar y caótico... las momias empolvadas y mal tenidas según mi impresión. No recomiendo gastar el tiempo allí habiendo cosas más llamativas. A menos que la administración del lugar mejoren las condiciones.\"</td>\n",
              "      <td>Museo de las Momias</td>\n",
              "      <td>Male</td>\n",
              "      <td>38</td>\n",
              "      <td>Colombia</td>\n",
              "      <td>11/05/2017</td>\n",
              "      <td>1</td>\n",
              "    </tr>\n",
              "    <tr>\n",
              "      <th>4</th>\n",
              "      <td>\"Incómodo y cero romántico\"</td>\n",
              "      <td>\"Es un lugar poco interesante y que se conoce en menos de un minuto. La cantidad de gente que lo visita es tanta que lo hacen poco agradable. Lo peor son los vendedores locales que incomodan aconsando a los turistas para contarles la leyenda y sacarles la foto. En resumen, el lugar menos romántico que he visto ¿quién va a querer romancear con una bola de mirones y que te quieran presionar para...</td>\n",
              "      <td>Callejón del Beso</td>\n",
              "      <td>Female</td>\n",
              "      <td>38</td>\n",
              "      <td>Francia</td>\n",
              "      <td>28/11/2017</td>\n",
              "      <td>1</td>\n",
              "    </tr>\n",
              "  </tbody>\n",
              "</table>\n",
              "</div>"
            ],
            "text/plain": [
              "                                 Title  ... Label\n",
              "0  \"¡Momias, demasiado impresionante!\"  ...     1\n",
              "1                          Comida cara  ...     1\n",
              "2                       \"No coman ahí\"  ...     1\n",
              "3                         \"Momificado\"  ...     1\n",
              "4          \"Incómodo y cero romántico\"  ...     1\n",
              "\n",
              "[5 rows x 8 columns]"
            ]
          },
          "metadata": {
            "tags": []
          },
          "execution_count": 11
        }
      ]
    },
    {
      "cell_type": "code",
      "metadata": {
        "colab": {
          "base_uri": "https://localhost:8080/"
        },
        "id": "NpMxjQMoSABF",
        "outputId": "068eae77-8ce1-4fed-ecd7-1b647a9491be"
      },
      "source": [
        "df.columns"
      ],
      "execution_count": null,
      "outputs": [
        {
          "output_type": "execute_result",
          "data": {
            "text/plain": [
              "Index(['Title', 'Opinion', 'Place', 'Gender', 'Age', 'Country', 'Date',\n",
              "       'Label'],\n",
              "      dtype='object')"
            ]
          },
          "metadata": {
            "tags": []
          },
          "execution_count": 12
        }
      ]
    },
    {
      "cell_type": "code",
      "metadata": {
        "id": "DOShjUn1jeWZ"
      },
      "source": [
        "def augmentation(data, label, idioma):\n",
        "  #data: data frame \n",
        "  #idioma: lista de idiomas a traducir\n",
        "  data = data[data.Label == label]\n",
        "  aumento = []\n",
        "  for i in idioma:\n",
        "    aux = pd.DataFrame({c:[] for c in data.columns})\n",
        "    opinion_en = data['Opinion'].apply(lambda x: GoogleTranslator(source='es', target = i).translate(x))\n",
        "    opinion_es = opinion_en.apply(lambda x: GoogleTranslator(source = i, target = 'es').translate(x))\n",
        "    \n",
        "    title_en = data['Title'].apply(lambda x: GoogleTranslator(source = 'es', target = i).translate(x))\n",
        "    title_es = title_en.apply(lambda x: GoogleTranslator(source = i, target = 'es').translate(x))\n",
        "    aux['Title'] = title_es\n",
        "    aux['Opinion'] = opinion_es\n",
        "    aux['Place'] = data['Place']\n",
        "    aux['Gender'] = data['Gender']\n",
        "    aux['Age'] = data['Age']\n",
        "    aux['Country'] = data['Country']\n",
        "    aux['Date'] = data['Date']\n",
        "    aux['Label'] = label \n",
        "\n",
        "    aumento.append(aux)\n",
        "  return pd.concat(aumento, axis = 0)"
      ],
      "execution_count": null,
      "outputs": []
    },
    {
      "cell_type": "code",
      "metadata": {
        "id": "da9Olk7ujf6U"
      },
      "source": [
        "%%time\n",
        "aux_label_1 = augmentation(df, 1, ['en','fr','de','zh'])\n",
        "aux_label_2 = augmentation(df, 2, ['en','fr','de'])"
      ],
      "execution_count": null,
      "outputs": []
    },
    {
      "cell_type": "code",
      "metadata": {
        "id": "Jpf6imop2lYK",
        "colab": {
          "base_uri": "https://localhost:8080/"
        },
        "outputId": "0fb7fcf4-2748-4fa4-e2b7-6b11031185de"
      },
      "source": [
        "df_aug = pd.concat([df, aux_label_1, aux_label_2], axis = 0)\n",
        "#df_aug.reset_index(inplace = True)\n",
        "print(df.shape)\n",
        "print(df_aug.shape)"
      ],
      "execution_count": null,
      "outputs": [
        {
          "output_type": "stream",
          "text": [
            "(5197, 8)\n",
            "(5952, 8)\n"
          ],
          "name": "stdout"
        }
      ]
    },
    {
      "cell_type": "code",
      "metadata": {
        "colab": {
          "base_uri": "https://localhost:8080/",
          "height": 345
        },
        "id": "KQqh_qVXvB5o",
        "outputId": "7c67e3de-6a56-436e-f16d-3227b70f1daf"
      },
      "source": [
        "df_aug.head()"
      ],
      "execution_count": null,
      "outputs": [
        {
          "output_type": "execute_result",
          "data": {
            "text/html": [
              "<div>\n",
              "<style scoped>\n",
              "    .dataframe tbody tr th:only-of-type {\n",
              "        vertical-align: middle;\n",
              "    }\n",
              "\n",
              "    .dataframe tbody tr th {\n",
              "        vertical-align: top;\n",
              "    }\n",
              "\n",
              "    .dataframe thead th {\n",
              "        text-align: right;\n",
              "    }\n",
              "</style>\n",
              "<table border=\"1\" class=\"dataframe\">\n",
              "  <thead>\n",
              "    <tr style=\"text-align: right;\">\n",
              "      <th></th>\n",
              "      <th>Title</th>\n",
              "      <th>Opinion</th>\n",
              "      <th>Place</th>\n",
              "      <th>Gender</th>\n",
              "      <th>Age</th>\n",
              "      <th>Country</th>\n",
              "      <th>Date</th>\n",
              "      <th>Label</th>\n",
              "    </tr>\n",
              "  </thead>\n",
              "  <tbody>\n",
              "    <tr>\n",
              "      <th>0</th>\n",
              "      <td>\"¡Momias, demasiado impresionante!\"</td>\n",
              "      <td>\"Las momias están en muy buen estado de conservación, más de 30 para ver. La energía del lugar es pesada, de baja vibración. Todo mi grupo quedó negativamente impresionado. Algunas expresiones de las caras son horribles. Esas imágenes como de ZOMBIES quedaron grabadas en lo profundo de las mentes de quienes las vimos, otros de mis acompañantes se tuvieron que salir del museo. Salimos con ganas...</td>\n",
              "      <td>Museo de las Momias</td>\n",
              "      <td>Male</td>\n",
              "      <td>53</td>\n",
              "      <td>México</td>\n",
              "      <td>22/10/2016</td>\n",
              "      <td>1</td>\n",
              "    </tr>\n",
              "    <tr>\n",
              "      <th>1</th>\n",
              "      <td>Comida cara</td>\n",
              "      <td>Tienen carteles con comida cortida de 40 y no te vendían nada el mínimo era 90 y debías pagar agua y sin buen sabor</td>\n",
              "      <td>Mercado Hidalgo</td>\n",
              "      <td>N/I</td>\n",
              "      <td>-1</td>\n",
              "      <td>México</td>\n",
              "      <td>2018</td>\n",
              "      <td>1</td>\n",
              "    </tr>\n",
              "    <tr>\n",
              "      <th>2</th>\n",
              "      <td>\"No coman ahí\"</td>\n",
              "      <td>\"Creo que es muy insalubre, hay basura por todos lados y aunque la comida es rica y barata, creo que se pueden visitar otros restaurantes.\"</td>\n",
              "      <td>Mercado Hidalgo</td>\n",
              "      <td>Female</td>\n",
              "      <td>61</td>\n",
              "      <td>México</td>\n",
              "      <td>15/01/2013</td>\n",
              "      <td>1</td>\n",
              "    </tr>\n",
              "    <tr>\n",
              "      <th>3</th>\n",
              "      <td>\"Momificado\"</td>\n",
              "      <td>\"Para mí gusto no vale la pena... tristemente es un gran atractivo pero descuidado, complicado para llegar y caótico... las momias empolvadas y mal tenidas según mi impresión. No recomiendo gastar el tiempo allí habiendo cosas más llamativas. A menos que la administración del lugar mejoren las condiciones.\"</td>\n",
              "      <td>Museo de las Momias</td>\n",
              "      <td>Male</td>\n",
              "      <td>38</td>\n",
              "      <td>Colombia</td>\n",
              "      <td>11/05/2017</td>\n",
              "      <td>1</td>\n",
              "    </tr>\n",
              "    <tr>\n",
              "      <th>4</th>\n",
              "      <td>\"Incómodo y cero romántico\"</td>\n",
              "      <td>\"Es un lugar poco interesante y que se conoce en menos de un minuto. La cantidad de gente que lo visita es tanta que lo hacen poco agradable. Lo peor son los vendedores locales que incomodan aconsando a los turistas para contarles la leyenda y sacarles la foto. En resumen, el lugar menos romántico que he visto ¿quién va a querer romancear con una bola de mirones y que te quieran presionar para...</td>\n",
              "      <td>Callejón del Beso</td>\n",
              "      <td>Female</td>\n",
              "      <td>38</td>\n",
              "      <td>Francia</td>\n",
              "      <td>28/11/2017</td>\n",
              "      <td>1</td>\n",
              "    </tr>\n",
              "  </tbody>\n",
              "</table>\n",
              "</div>"
            ],
            "text/plain": [
              "                                 Title  ... Label\n",
              "0  \"¡Momias, demasiado impresionante!\"  ...     1\n",
              "1                          Comida cara  ...     1\n",
              "2                       \"No coman ahí\"  ...     1\n",
              "3                         \"Momificado\"  ...     1\n",
              "4          \"Incómodo y cero romántico\"  ...     1\n",
              "\n",
              "[5 rows x 8 columns]"
            ]
          },
          "metadata": {
            "tags": []
          },
          "execution_count": 17
        }
      ]
    },
    {
      "cell_type": "code",
      "metadata": {
        "colab": {
          "base_uri": "https://localhost:8080/",
          "height": 175
        },
        "id": "ovnttS1G7lw9",
        "outputId": "2af5e61e-a977-4209-dc9b-a7b71e2356b7"
      },
      "source": [
        "aux_label_1[aux_label_1.index == 1]"
      ],
      "execution_count": null,
      "outputs": [
        {
          "output_type": "execute_result",
          "data": {
            "text/html": [
              "<div>\n",
              "<style scoped>\n",
              "    .dataframe tbody tr th:only-of-type {\n",
              "        vertical-align: middle;\n",
              "    }\n",
              "\n",
              "    .dataframe tbody tr th {\n",
              "        vertical-align: top;\n",
              "    }\n",
              "\n",
              "    .dataframe thead th {\n",
              "        text-align: right;\n",
              "    }\n",
              "</style>\n",
              "<table border=\"1\" class=\"dataframe\">\n",
              "  <thead>\n",
              "    <tr style=\"text-align: right;\">\n",
              "      <th></th>\n",
              "      <th>Title</th>\n",
              "      <th>Opinion</th>\n",
              "      <th>Place</th>\n",
              "      <th>Gender</th>\n",
              "      <th>Age</th>\n",
              "      <th>Country</th>\n",
              "      <th>Date</th>\n",
              "      <th>Label</th>\n",
              "    </tr>\n",
              "  </thead>\n",
              "  <tbody>\n",
              "    <tr>\n",
              "      <th>1</th>\n",
              "      <td>Comida cara</td>\n",
              "      <td>Tienen carteles con comida cortada de 40 y no te vendieron nada, el mínimo era 90 y tenías que pagar por agua y sin buen gusto</td>\n",
              "      <td>Mercado Hidalgo</td>\n",
              "      <td>N/I</td>\n",
              "      <td>-1</td>\n",
              "      <td>México</td>\n",
              "      <td>2018</td>\n",
              "      <td>1</td>\n",
              "    </tr>\n",
              "    <tr>\n",
              "      <th>1</th>\n",
              "      <td>Comida cara</td>\n",
              "      <td>Tienen carteles con comida cortada de 40 y no te vendieron nada, el mínimo era 90 y tenías que pagar por agua y sin sabor.</td>\n",
              "      <td>Mercado Hidalgo</td>\n",
              "      <td>N/I</td>\n",
              "      <td>-1</td>\n",
              "      <td>México</td>\n",
              "      <td>2018</td>\n",
              "      <td>1</td>\n",
              "    </tr>\n",
              "    <tr>\n",
              "      <th>1</th>\n",
              "      <td>Comida cara</td>\n",
              "      <td>Cortaban carteles con comida de más de 40 y no te vendían nada, el mínimo era de 90 y tenías que pagar por agua y sin sabor?</td>\n",
              "      <td>Mercado Hidalgo</td>\n",
              "      <td>N/I</td>\n",
              "      <td>-1</td>\n",
              "      <td>México</td>\n",
              "      <td>2018</td>\n",
              "      <td>1</td>\n",
              "    </tr>\n",
              "    <tr>\n",
              "      <th>1</th>\n",
              "      <td>Comida cara</td>\n",
              "      <td>Hay 40 yuanes de comida en su cartel, no te vendieron nada, el mínimo es de 90 yuanes, tienes que pagar por el agua y sabe mal.</td>\n",
              "      <td>Mercado Hidalgo</td>\n",
              "      <td>N/I</td>\n",
              "      <td>-1</td>\n",
              "      <td>México</td>\n",
              "      <td>2018</td>\n",
              "      <td>1</td>\n",
              "    </tr>\n",
              "  </tbody>\n",
              "</table>\n",
              "</div>"
            ],
            "text/plain": [
              "         Title  ... Label\n",
              "1  Comida cara  ...     1\n",
              "1  Comida cara  ...     1\n",
              "1  Comida cara  ...     1\n",
              "1  Comida cara  ...     1\n",
              "\n",
              "[4 rows x 8 columns]"
            ]
          },
          "metadata": {
            "tags": []
          },
          "execution_count": 23
        }
      ]
    },
    {
      "cell_type": "code",
      "metadata": {
        "id": "06kjq2uVFTvZ"
      },
      "source": [
        "#df_aug.to_csv(path + 'sentiment_augmentation.csv')"
      ],
      "execution_count": null,
      "outputs": []
    },
    {
      "cell_type": "code",
      "metadata": {
        "colab": {
          "base_uri": "https://localhost:8080/",
          "height": 754
        },
        "id": "xzXSNAGY9QJp",
        "outputId": "00ed9401-eb43-4288-e39f-7d22d9c934d8"
      },
      "source": [
        "df_aug=pd.read_csv(path + 'sentiment_augmentation.csv')\n",
        "\n",
        "df_aug.drop(['Unnamed: 0', 'index'],inplace=True, axis=1)\n",
        "df_aug.head()"
      ],
      "execution_count": null,
      "outputs": [
        {
          "output_type": "execute_result",
          "data": {
            "text/html": [
              "<div>\n",
              "<style scoped>\n",
              "    .dataframe tbody tr th:only-of-type {\n",
              "        vertical-align: middle;\n",
              "    }\n",
              "\n",
              "    .dataframe tbody tr th {\n",
              "        vertical-align: top;\n",
              "    }\n",
              "\n",
              "    .dataframe thead th {\n",
              "        text-align: right;\n",
              "    }\n",
              "</style>\n",
              "<table border=\"1\" class=\"dataframe\">\n",
              "  <thead>\n",
              "    <tr style=\"text-align: right;\">\n",
              "      <th></th>\n",
              "      <th>Title</th>\n",
              "      <th>Opinion</th>\n",
              "      <th>Place</th>\n",
              "      <th>Gender</th>\n",
              "      <th>Age</th>\n",
              "      <th>Country</th>\n",
              "      <th>Date</th>\n",
              "      <th>Label</th>\n",
              "    </tr>\n",
              "  </thead>\n",
              "  <tbody>\n",
              "    <tr>\n",
              "      <th>0</th>\n",
              "      <td>\"¡Momias, demasiado impresionante!\"</td>\n",
              "      <td>\"Las momias están en muy buen estado de conservación, más de 30 para ver. La energía del lugar es pesada, de baja vibración. Todo mi grupo quedó negativamente impresionado. Algunas expresiones de las caras son horribles. Esas imágenes como de ZOMBIES quedaron grabadas en lo profundo de las mentes de quienes las vimos, otros de mis acompañantes se tuvieron que salir del museo. Salimos con ganas...</td>\n",
              "      <td>Museo de las Momias</td>\n",
              "      <td>Male</td>\n",
              "      <td>53</td>\n",
              "      <td>México</td>\n",
              "      <td>22/10/2016</td>\n",
              "      <td>1</td>\n",
              "    </tr>\n",
              "    <tr>\n",
              "      <th>1</th>\n",
              "      <td>Comida cara</td>\n",
              "      <td>Tienen carteles con comida cortida de 40 y no te vendían nada el mínimo era 90 y debías pagar agua y sin buen sabor</td>\n",
              "      <td>Mercado Hidalgo</td>\n",
              "      <td>N/I</td>\n",
              "      <td>-1</td>\n",
              "      <td>México</td>\n",
              "      <td>2018</td>\n",
              "      <td>1</td>\n",
              "    </tr>\n",
              "    <tr>\n",
              "      <th>2</th>\n",
              "      <td>\"No coman ahí\"</td>\n",
              "      <td>\"Creo que es muy insalubre, hay basura por todos lados y aunque la comida es rica y barata, creo que se pueden visitar otros restaurantes.\"</td>\n",
              "      <td>Mercado Hidalgo</td>\n",
              "      <td>Female</td>\n",
              "      <td>61</td>\n",
              "      <td>México</td>\n",
              "      <td>15/01/2013</td>\n",
              "      <td>1</td>\n",
              "    </tr>\n",
              "    <tr>\n",
              "      <th>3</th>\n",
              "      <td>\"Momificado\"</td>\n",
              "      <td>\"Para mí gusto no vale la pena... tristemente es un gran atractivo pero descuidado, complicado para llegar y caótico... las momias empolvadas y mal tenidas según mi impresión. No recomiendo gastar el tiempo allí habiendo cosas más llamativas. A menos que la administración del lugar mejoren las condiciones.\"</td>\n",
              "      <td>Museo de las Momias</td>\n",
              "      <td>Male</td>\n",
              "      <td>38</td>\n",
              "      <td>Colombia</td>\n",
              "      <td>11/05/2017</td>\n",
              "      <td>1</td>\n",
              "    </tr>\n",
              "    <tr>\n",
              "      <th>4</th>\n",
              "      <td>\"Incómodo y cero romántico\"</td>\n",
              "      <td>\"Es un lugar poco interesante y que se conoce en menos de un minuto. La cantidad de gente que lo visita es tanta que lo hacen poco agradable. Lo peor son los vendedores locales que incomodan aconsando a los turistas para contarles la leyenda y sacarles la foto. En resumen, el lugar menos romántico que he visto ¿quién va a querer romancear con una bola de mirones y que te quieran presionar para...</td>\n",
              "      <td>Callejón del Beso</td>\n",
              "      <td>Female</td>\n",
              "      <td>38</td>\n",
              "      <td>Francia</td>\n",
              "      <td>28/11/2017</td>\n",
              "      <td>1</td>\n",
              "    </tr>\n",
              "    <tr>\n",
              "      <th>...</th>\n",
              "      <td>...</td>\n",
              "      <td>...</td>\n",
              "      <td>...</td>\n",
              "      <td>...</td>\n",
              "      <td>...</td>\n",
              "      <td>...</td>\n",
              "      <td>...</td>\n",
              "      <td>...</td>\n",
              "    </tr>\n",
              "    <tr>\n",
              "      <th>5947</th>\n",
              "      <td>\"Ansiedad\"</td>\n",
              "      <td>\"No me gustó ver las momias, me asustó, no es para gente sensible, incluso hay bebés :(. El sitio está en perfecto estado. Te das la explicación en el museo, está muy bien establecido. Haz algo así, entonces sí es recomendable \".</td>\n",
              "      <td>Museo de las Momias</td>\n",
              "      <td>Female</td>\n",
              "      <td>30</td>\n",
              "      <td>Paraguay</td>\n",
              "      <td>03/07/2016</td>\n",
              "      <td>2</td>\n",
              "    </tr>\n",
              "    <tr>\n",
              "      <th>5948</th>\n",
              "      <td>\"Tema interesante / museo incompleto\"</td>\n",
              "      <td>“Fue muy decepcionante. El tema es súper interesante y es una lástima que no se invierta la estructura del lugar. También necesitamos más información sobre las momias, cómo fueron descubiertas, las condiciones del lugar donde estaban originalmente, los naturales Proceso de momificación, etc. Se debe invertir en la mejora e información de este museo para que se pueda aprender sobre la descompos...</td>\n",
              "      <td>Museo de las Momias</td>\n",
              "      <td>Female</td>\n",
              "      <td>34</td>\n",
              "      <td>Alemania</td>\n",
              "      <td>07/07/2015</td>\n",
              "      <td>2</td>\n",
              "    </tr>\n",
              "    <tr>\n",
              "      <th>5949</th>\n",
              "      <td>\"Esperaba más\"</td>\n",
              "      <td>\"La verdad no vale mucho porque dejaron muy pocas momias. 50 pesos aproximadamente y parece muy caro\".</td>\n",
              "      <td>Museo de las Momias</td>\n",
              "      <td>Male</td>\n",
              "      <td>-1</td>\n",
              "      <td>México</td>\n",
              "      <td>19/12/2016</td>\n",
              "      <td>2</td>\n",
              "    </tr>\n",
              "    <tr>\n",
              "      <th>5950</th>\n",
              "      <td>\"Algo grotesco, pero algo interesante\"</td>\n",
              "      <td>\"No es mi tipo de museo. Es grotesco, pero podría haber sido peor. La visita solo toma 20 minutos. Es uno de los lugares imperdibles de Guanajuato. Pero no necesariamente\".</td>\n",
              "      <td>Museo de las Momias</td>\n",
              "      <td>Male</td>\n",
              "      <td>57</td>\n",
              "      <td>Colombia</td>\n",
              "      <td>03/11/2017</td>\n",
              "      <td>2</td>\n",
              "    </tr>\n",
              "    <tr>\n",
              "      <th>5951</th>\n",
              "      <td>\"No hay trámites para ser museo\"</td>\n",
              "      <td>\"Es notable porque es el Museo de las Momias y la experiencia es difícil de encontrar, pero como museo real tiene poca. No hay organización en su contenido, no hay suficiente información. Es caro. Más atractivo que atrae a los turistas un aporte cultural \".</td>\n",
              "      <td>Museo de las Momias</td>\n",
              "      <td>Male</td>\n",
              "      <td>42</td>\n",
              "      <td>Chile</td>\n",
              "      <td>31/01/2017</td>\n",
              "      <td>2</td>\n",
              "    </tr>\n",
              "  </tbody>\n",
              "</table>\n",
              "<p>5952 rows × 8 columns</p>\n",
              "</div>"
            ],
            "text/plain": [
              "                                       Title  ... Label\n",
              "0        \"¡Momias, demasiado impresionante!\"  ...     1\n",
              "1                                Comida cara  ...     1\n",
              "2                             \"No coman ahí\"  ...     1\n",
              "3                               \"Momificado\"  ...     1\n",
              "4                \"Incómodo y cero romántico\"  ...     1\n",
              "...                                      ...  ...   ...\n",
              "5947                              \"Ansiedad\"  ...     2\n",
              "5948   \"Tema interesante / museo incompleto\"  ...     2\n",
              "5949                          \"Esperaba más\"  ...     2\n",
              "5950  \"Algo grotesco, pero algo interesante\"  ...     2\n",
              "5951        \"No hay trámites para ser museo\"  ...     2\n",
              "\n",
              "[5952 rows x 8 columns]"
            ]
          },
          "metadata": {
            "tags": []
          },
          "execution_count": 11
        }
      ]
    },
    {
      "cell_type": "code",
      "metadata": {
        "id": "vVJDuHQt2VTN",
        "colab": {
          "base_uri": "https://localhost:8080/",
          "height": 460
        },
        "outputId": "f7ac9357-fd60-49bf-dc8e-df664df9039f"
      },
      "source": [
        "plt.figure(figsize=(16,7))\n",
        "plt.subplot(121)\n",
        "sns.countplot(data = df, x = 'Label')\n",
        "plt.subplot(122)\n",
        "sns.countplot(data = df_aug, x = 'Label')"
      ],
      "execution_count": null,
      "outputs": [
        {
          "output_type": "execute_result",
          "data": {
            "text/plain": [
              "<matplotlib.axes._subplots.AxesSubplot at 0x7f085936fbd0>"
            ]
          },
          "metadata": {
            "tags": []
          },
          "execution_count": 17
        },
        {
          "output_type": "display_data",
          "data": {
            "image/png": "[encoded data removed]",
            "text/plain": [
              "<Figure size 1152x504 with 2 Axes>"
            ]
          },
          "metadata": {
            "tags": [],
            "needs_background": "light"
          }
        }
      ]
    }
  ]
}